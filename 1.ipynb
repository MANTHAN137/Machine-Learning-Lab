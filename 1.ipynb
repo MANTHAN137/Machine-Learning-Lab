{
 "cells": [
  {
   "cell_type": "code",
   "execution_count": 1,
   "metadata": {},
   "outputs": [],
   "source": [
    "import pandas as pd\n",
    "import math\n",
    "import numpy as np"
   ]
  },
  {
   "cell_type": "code",
   "execution_count": 12,
   "metadata": {},
   "outputs": [
    {
     "name": "stdout",
     "output_type": "stream",
     "text": [
      "Training accuracy: 0.9943068164332974\n",
      "Testing accuracy: 0.9938461538461538\n"
     ]
    }
   ],
   "source": [
    "from sklearn.model_selection import train_test_split\n",
    "\n",
    "# Load the data\n",
    "data = pd.read_csv('mushrooms.csv')\n",
    "\n",
    "# Preprocess the data\n",
    "X = data.iloc[:, 1:]\n",
    "y = data.iloc[:, 0]\n",
    "X = pd.get_dummies(X, columns=X.columns)\n",
    "X = X.values\n",
    "y = np.array([1 if label == 'p' else 0 for label in y])\n",
    "\n",
    "# Split the data into training and testing sets\n",
    "X_train, X_test, y_train, y_test = train_test_split(X, y, test_size=0.2, random_state=42)\n",
    "\n",
    "# Train the Naive Bayes classifier\n",
    "class_counts = np.bincount(y_train)\n",
    "priors = class_counts / float(len(y_train))\n",
    "likelihoods = np.zeros((2, X.shape[1], 2))\n",
    "for i in range(X.shape[1]):\n",
    "    for j in range(2):\n",
    "        feature_counts = np.bincount(X_train[y_train == j, i], minlength=2)\n",
    "        likelihoods[j, i, :] = feature_counts / float(class_counts[j])\n",
    "\n",
    "# Test the classifier on training data\n",
    "y_train_pred = np.zeros_like(y_train)\n",
    "for i in range(len(y_train)):\n",
    "    p_edible = priors[0]\n",
    "    p_poisonous = priors[1]\n",
    "    for j in range(X.shape[1]):\n",
    "        p_edible *= likelihoods[0, j, X_train[i, j]]\n",
    "        p_poisonous *= likelihoods[1, j, X_train[i, j]]\n",
    "    if p_edible > p_poisonous:\n",
    "        y_train_pred[i] = 0\n",
    "    else:\n",
    "        y_train_pred[i] = 1\n",
    "train_accuracy = np.mean(y_train_pred == y_train)\n",
    "print('Training accuracy:', train_accuracy)\n",
    "\n",
    "# Test the classifier on testing data\n",
    "y_test_pred = np.zeros_like(y_test)\n",
    "for i in range(len(y_test)):\n",
    "    p_edible = priors[0]\n",
    "    p_poisonous = priors[1]\n",
    "    for j in range(X.shape[1]):\n",
    "        p_edible *= likelihoods[0, j, X_test[i, j]]\n",
    "        p_poisonous *= likelihoods[1, j, X_test[i, j]]\n",
    "    if p_edible > p_poisonous:\n",
    "        y_test_pred[i] = 0\n",
    "    else:\n",
    "        y_test_pred[i] = 1\n",
    "test_accuracy = np.mean(y_test_pred == y_test)\n",
    "print('Testing accuracy:', test_accuracy)"
   ]
  },
  {
   "attachments": {},
   "cell_type": "markdown",
   "metadata": {},
   "source": [
    "## Accuray using inbuilt Library"
   ]
  },
  {
   "cell_type": "code",
   "execution_count": 3,
   "metadata": {},
   "outputs": [],
   "source": [
    "from sklearn.naive_bayes import GaussianNB\n",
    "from sklearn.metrics import accuracy_score\n",
    "from sklearn.preprocessing import LabelEncoder"
   ]
  },
  {
   "cell_type": "code",
   "execution_count": 4,
   "metadata": {},
   "outputs": [],
   "source": [
    "indata=data[:]"
   ]
  },
  {
   "cell_type": "code",
   "execution_count": 5,
   "metadata": {},
   "outputs": [],
   "source": [
    "le=LabelEncoder()\n",
    "for col in indata.columns:\n",
    "    indata[col]=le.fit_transform(indata[col])\n"
   ]
  },
  {
   "cell_type": "code",
   "execution_count": 6,
   "metadata": {},
   "outputs": [],
   "source": [
    "x=indata.drop('class',axis=1)\n",
    "y=indata['class']"
   ]
  },
  {
   "cell_type": "code",
   "execution_count": 7,
   "metadata": {},
   "outputs": [],
   "source": [
    "from sklearn.model_selection import train_test_split\n",
    "x_train,x_test,y_train,y_test=train_test_split(x,y,test_size=0.3,random_state=101)"
   ]
  },
  {
   "cell_type": "code",
   "execution_count": 8,
   "metadata": {},
   "outputs": [],
   "source": [
    "model=GaussianNB()"
   ]
  },
  {
   "cell_type": "code",
   "execution_count": 9,
   "metadata": {},
   "outputs": [
    {
     "data": {
      "text/plain": [
       "GaussianNB()"
      ]
     },
     "execution_count": 9,
     "metadata": {},
     "output_type": "execute_result"
    }
   ],
   "source": [
    "model.fit(x_train,y_train)"
   ]
  },
  {
   "cell_type": "code",
   "execution_count": 10,
   "metadata": {},
   "outputs": [],
   "source": [
    "y_predict_train=model.predict(x_train)\n",
    "y_predict_test=model.predict(x_test)"
   ]
  },
  {
   "cell_type": "code",
   "execution_count": 11,
   "metadata": {},
   "outputs": [
    {
     "name": "stdout",
     "output_type": "stream",
     "text": [
      "Percentage accuracy on training data using inbuilt library :  92.29686950404502 %\n",
      "Percentage accuracy on testing data using inbuilt library :  91.42739950779327 %\n"
     ]
    }
   ],
   "source": [
    "# Training and Testing Accuracy in inbuilt\n",
    "print(\"Percentage accuracy on training data using inbuilt library : \",accuracy_score(y_predict_train,y_train)*100,'%')\n",
    "print(\"Percentage accuracy on testing data using inbuilt library : \",accuracy_score(y_predict_test,y_test)*100,'%')\n"
   ]
  }
 ],
 "metadata": {
  "kernelspec": {
   "display_name": "base",
   "language": "python",
   "name": "python3"
  },
  "language_info": {
   "codemirror_mode": {
    "name": "ipython",
    "version": 3
   },
   "file_extension": ".py",
   "mimetype": "text/x-python",
   "name": "python",
   "nbconvert_exporter": "python",
   "pygments_lexer": "ipython3",
   "version": "3.8.8"
  },
  "orig_nbformat": 4,
  "vscode": {
   "interpreter": {
    "hash": "dc07d24e2f18896857f0b2a651fe84ba40ce7b297e58d8804a308c8039f752a6"
   }
  }
 },
 "nbformat": 4,
 "nbformat_minor": 2
}
