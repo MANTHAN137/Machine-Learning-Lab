{
 "cells": [
  {
   "cell_type": "code",
   "execution_count": 1,
   "metadata": {},
   "outputs": [
    {
     "name": "stderr",
     "output_type": "stream",
     "text": [
      "c:\\Users\\HP\\anaconda3\\lib\\site-packages\\scipy\\__init__.py:138: UserWarning: A NumPy version >=1.16.5 and <1.23.0 is required for this version of SciPy (detected version 1.23.5)\n",
      "  warnings.warn(f\"A NumPy version >={np_minversion} and <{np_maxversion} is required for this version of \"\n"
     ]
    },
    {
     "name": "stdout",
     "output_type": "stream",
     "text": [
      "(237, 13)\n"
     ]
    },
    {
     "name": "stderr",
     "output_type": "stream",
     "text": [
      "<ipython-input-1-b65e5551bb88>:19: RuntimeWarning: divide by zero encountered in log\n",
      "  J = (-1/m) * np.sum(y * np.log(h) + (1 - y) * np.log(1 - h))\n"
     ]
    },
    {
     "name": "stdout",
     "output_type": "stream",
     "text": [
      "Accuracy: 0.55\n"
     ]
    }
   ],
   "source": [
    "import pandas as pd\n",
    "import numpy as np\n",
    "from sklearn.model_selection import train_test_split\n",
    "\n",
    "data=pd.read_csv('heart.csv')\n",
    "X=data.drop('condition',axis=1)\n",
    "y=data['condition']\n",
    "X_train,X_test,y_train,y_test=train_test_split(X,y,test_size=0.2,random_state=45)\n",
    "\n",
    "def sigmoid(z):\n",
    "    return 1 / (1 + np.exp(-z))\n",
    "\n",
    "def hypothesis(theta, X):\n",
    "    return sigmoid(np.dot(X, theta))\n",
    "\n",
    "def cost_function(theta, X, y):\n",
    "    m = len(y)\n",
    "    h = hypothesis(theta, X)\n",
    "    J = (-1/m) * np.sum(y * np.log(h) + (1 - y) * np.log(1 - h))\n",
    "    return J\n",
    "\n",
    "def gradient_descent(theta, X, y, alpha, iterations):\n",
    "    m = len(y)\n",
    "    J_history = np.zeros(iterations)\n",
    "    for i in range(iterations):\n",
    "        h = hypothesis(theta, X)\n",
    "        gradient = np.dot(X.T, (h - y)) / m\n",
    "        theta -= alpha * gradient\n",
    "        J_history[i] = cost_function(theta, X, y)\n",
    "    return theta, J_history\n",
    "\n",
    "\n",
    "# Initializing the model parameters\n",
    "theta = np.zeros(X_train.shape[1])\n",
    "print(X_train.shape)\n",
    "# Training the logistic regression model\n",
    "alpha = 0.01\n",
    "\n",
    "num_iters = 1000\n",
    "\n",
    "theta, J_history = gradient_descent(theta, X_train, y_train, alpha, num_iters)\n",
    "\n",
    "y_pred = sigmoid(X_test.dot(theta))\n",
    "y_pred = np.where(y_pred >= 0.5, 1, 0)\n",
    "accuracy = np.mean(y_pred == y_test)\n",
    "print(\"Accuracy:\", accuracy)"
   ]
  },
  {
   "cell_type": "code",
   "execution_count": 2,
   "metadata": {},
   "outputs": [],
   "source": [
    "import pandas as pd\n",
    "from sklearn.model_selection import train_test_split\n",
    "from sklearn.linear_model import LogisticRegression\n",
    "from sklearn.metrics import accuracy_score\n",
    "\n",
    "from sklearn.preprocessing import MinMaxScaler\n"
   ]
  },
  {
   "cell_type": "code",
   "execution_count": 3,
   "metadata": {},
   "outputs": [],
   "source": [
    "def sigmoid(z):\n",
    "    return 1/(1+np.exp(-z))\n",
    "\n",
    "def hypothesis(theta,X):\n",
    "    return sigmoid(np.dot(X,theta))\n",
    "\n",
    "def cost_function(theta,X,y):\n",
    "    m=len(y)\n",
    "    h=hypothesis(theta,X)\n",
    "    J=(-1/m)*np.sum(y*np.log(h)+(1-y)*np.log(1-h))"
   ]
  },
  {
   "cell_type": "code",
   "execution_count": 4,
   "metadata": {},
   "outputs": [
    {
     "name": "stderr",
     "output_type": "stream",
     "text": [
      "<ipython-input-4-ad47b6105978>:19: RuntimeWarning: divide by zero encountered in log\n",
      "  J = (-1/m) * np.sum(y * np.log(h) + (1 - y) * np.log(1 - h))\n",
      "<ipython-input-4-ad47b6105978>:39: RuntimeWarning: invalid value encountered in double_scalars\n",
      "  if i > 0 and abs(J_history[i] - J_history[i-1]) < tol:\n"
     ]
    },
    {
     "name": "stdout",
     "output_type": "stream",
     "text": [
      "Accuracy: 0.8666666666666667\n"
     ]
    }
   ],
   "source": [
    "import pandas as pd\n",
    "import numpy as np\n",
    "from sklearn.model_selection import train_test_split\n",
    "\n",
    "data=pd.read_csv('heart.csv')\n",
    "X=data.drop('condition',axis=1)\n",
    "y=data['condition']\n",
    "X_train,X_test,y_train,y_test=train_test_split(X,y,test_size=0.2,random_state=45)\n",
    "\n",
    "def sigmoid(z):\n",
    "    return 1 / (1 + np.exp(-z))\n",
    "\n",
    "def hypothesis(theta, X):\n",
    "    return sigmoid(np.dot(X, theta))\n",
    "\n",
    "def cost_function(theta, X, y, lambda_val=0):\n",
    "    m = len(y)\n",
    "    h = hypothesis(theta, X)\n",
    "    J = (-1/m) * np.sum(y * np.log(h) + (1 - y) * np.log(1 - h))\n",
    "\n",
    "    #Applying regularization\n",
    "    if lambda_val != 0:\n",
    "        reg_term = (lambda_val / (2 * m)) * np.sum(theta[1:]**2)\n",
    "        J += reg_term\n",
    "    return J\n",
    "\n",
    "def gradient_descent(theta, X, y, alpha, lambda_val=0, max_iter=100000, tol=1e-6):\n",
    "    m = len(y)\n",
    "    J_history = np.zeros(max_iter)\n",
    "    for i in range(max_iter):\n",
    "        h = hypothesis(theta, X)\n",
    "        gradient = np.dot(X.T, (h - y)) / m\n",
    "        if lambda_val != 0:\n",
    "            gradient[1:] += (lambda_val / m) * theta[1:]\n",
    "        theta -= alpha * gradient\n",
    "\n",
    "        J_history[i] = cost_function(theta, X, y, lambda_val)\n",
    "        #Applying regularization\n",
    "        if i > 0 and abs(J_history[i] - J_history[i-1]) < tol:\n",
    "            break\n",
    "    return theta, J_history[:i]\n",
    "\n",
    "# Initializing the model parameters\n",
    "theta = np.zeros(X_train.shape[1])\n",
    "\n",
    "# Training the logistic regression model\n",
    "alpha = 0.01\n",
    "lambda_val = 0.1\n",
    "theta, J_history = gradient_descent(theta, X_train, y_train, alpha, lambda_val)\n",
    "\n",
    "# Evaluating the performance of the model on the testing set\n",
    "y_pred = sigmoid(X_test.dot(theta))\n",
    "y_pred = np.where(y_pred >= 0.5, 1, 0)\n",
    "accuracy = np.mean(y_pred == y_test)\n",
    "print(\"Accuracy:\", accuracy)\n"
   ]
  },
  {
   "cell_type": "code",
   "execution_count": 6,
   "metadata": {},
   "outputs": [
    {
     "name": "stdout",
     "output_type": "stream",
     "text": [
      "Accuracy: 81.11111111111111 %\n"
     ]
    }
   ],
   "source": [
    "import pandas as pd\n",
    "from sklearn.model_selection import train_test_split\n",
    "from sklearn.linear_model import LogisticRegression\n",
    "from sklearn.metrics import accuracy_score\n",
    "from sklearn.preprocessing import MinMaxScaler\n",
    "\n",
    "df = pd.read_csv('heart.csv')\n",
    "\n",
    "# Split the data into features and labels\n",
    "X = df.drop('condition', axis=1)\n",
    "y = df['condition']\n",
    "\n",
    "# Split the data into training and testing sets\n",
    "X_train, X_test, y_train, y_test = train_test_split(X, y, test_size=0.3, random_state=4)\n",
    "\n",
    "scaler = MinMaxScaler()\n",
    "scaler.fit(X_train)\n",
    "X_train = scaler.transform(X_train)\n",
    "X_test = scaler.transform(X_test)\n",
    "\n",
    "# Create a logistic regression object with L2 regularization\n",
    "logreg = LogisticRegression(penalty='l2', C=0.1)\n",
    "\n",
    "# Fit the model to the training data\n",
    "logreg.fit(X_train, y_train)\n",
    "\n",
    "# Make predictions on the testing data\n",
    "y_pred = logreg.predict(X_test)\n",
    "\n",
    "# Calculate the accuracy of the model\n",
    "accuracy = accuracy_score(y_test, y_pred)\n",
    "\n",
    "print(\"Accuracy:\", accuracy*100,\"%\")\n"
   ]
  },
  {
   "cell_type": "code",
   "execution_count": null,
   "metadata": {},
   "outputs": [],
   "source": []
  }
 ],
 "metadata": {
  "kernelspec": {
   "display_name": "base",
   "language": "python",
   "name": "python3"
  },
  "language_info": {
   "codemirror_mode": {
    "name": "ipython",
    "version": 3
   },
   "file_extension": ".py",
   "mimetype": "text/x-python",
   "name": "python",
   "nbconvert_exporter": "python",
   "pygments_lexer": "ipython3",
   "version": "3.8.8"
  },
  "orig_nbformat": 4
 },
 "nbformat": 4,
 "nbformat_minor": 2
}
