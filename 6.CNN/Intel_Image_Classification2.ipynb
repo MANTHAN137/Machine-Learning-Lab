{
  "cells": [
    {
      "cell_type": "code",
      "execution_count": 3,
      "metadata": {
        "colab": {
          "base_uri": "https://localhost:8080/",
          "height": 0
        },
        "id": "tuxHH841KmwJ",
        "outputId": "c2b2530f-c609-49c7-f8f4-1ae55c8c7d0d"
      },
      "outputs": [
        {
          "name": "stdout",
          "output_type": "stream",
          "text": [
            "Found 14034 files belonging to 6 classes.\n",
            "Found 3000 files belonging to 6 classes.\n"
          ]
        }
      ],
      "source": [
        "# \n",
        "# !mkdir -p ~/.kaggle\n",
        "# !cp kaggle.json ~/.kaggle/\n",
        "# \n",
        "# !kaggle datasets download -d puneet6060/intel-image-classification\n",
        "# \n",
        "# import zipfile\n",
        "# zip_ref = zipfile.ZipFile('/content/intel-image-classification.zip', 'r')\n",
        "# zip_ref.extractall('/content')\n",
        "# zip_ref.close()\n",
        "\n",
        "import tensorflow as tf\n",
        "from tensorflow import keras\n",
        "from keras import Sequential\n",
        "from keras.layers import Dense,Conv2D,MaxPooling2D,Flatten,BatchNormalization,Dropout\n",
        "\n",
        "# generators\n",
        "train_ds = keras.utils.image_dataset_from_directory(\n",
        "    directory = 'seg_train/seg_train',\n",
        "    labels='inferred',\n",
        "    label_mode = 'int',\n",
        "    batch_size=32,\n",
        "    image_size=(256,256)\n",
        ")\n",
        "\n",
        "validation_ds = keras.utils.image_dataset_from_directory(\n",
        "    directory = 'seg_test/seg_test',\n",
        "    labels='inferred',\n",
        "    label_mode = 'int',\n",
        "    batch_size=32,\n",
        "    image_size=(256,256)\n",
        ")\n",
        "\n",
        "# Normalize\n",
        "def process(image,label):\n",
        "    image = tf.cast(image/255. ,tf.float32)\n",
        "    return image,label\n",
        "\n",
        "train_ds = train_ds.map(process)\n",
        "validation_ds = validation_ds.map(process)\n"
      ]
    },
    {
      "cell_type": "code",
      "execution_count": 4,
      "metadata": {},
      "outputs": [
        {
          "name": "stdout",
          "output_type": "stream",
          "text": [
            "Found 12632 images belonging to 6 classes.\n",
            "Found 1402 images belonging to 6 classes.\n",
            "Found 3000 images belonging to 6 classes.\n",
            "Found 3000 images belonging to 6 classes.\n"
          ]
        }
      ],
      "source": [
        "#Image Generator\n",
        "from tensorflow.keras.preprocessing.image import ImageDataGenerator\n",
        "\n",
        "# Add data-augmentation parameters to ImageDataGenerator\n",
        "train_datagen = ImageDataGenerator(rescale = 1./255.,horizontal_flip=True,shear_range=0.2,  \n",
        "    zoom_range=0.2, validation_split=0.1)\n",
        "\n",
        "\"\"\"train_datagen = ImageDataGenerator(rescale = 1./255,\n",
        "\t    rotation_range=15,\n",
        "      width_shift_range=0.1,\n",
        "      height_shift_range=0.1,\n",
        "      shear_range=0.01,\n",
        "      zoom_range=[0.1, 1.5],\n",
        "      horizontal_flip=True,\n",
        "      fill_mode='nearest',\n",
        "      zca_whitening=True,\n",
        "      brightness_range=[0.1, 2]\n",
        ")\"\"\"\n",
        "\n",
        "\n",
        "train_generator=train_datagen.flow_from_directory(\n",
        "      'seg_train/seg_train',\n",
        "      target_size=(150,150),\n",
        "      batch_size=64,\n",
        "      class_mode='sparse',\n",
        "      seed=2209,\n",
        "      subset='training'\n",
        "    \n",
        ")\n",
        "\n",
        "validation_generator=train_datagen.flow_from_directory(\n",
        "      'seg_train/seg_train',\n",
        "      target_size=(150,150),\n",
        "      batch_size=64,\n",
        "      class_mode='sparse',\n",
        "      seed=2209,\n",
        "      subset='validation'\n",
        "    \n",
        ")\n",
        "\n",
        "test_datagen = ImageDataGenerator(rescale = 1./255.)\n",
        "test_generator = test_datagen.flow_from_directory(\n",
        "    'seg_test/seg_test', \n",
        "    target_size=(150,150),\n",
        "    batch_size=32,\n",
        "    class_mode='sparse',\n",
        "    seed=2209\n",
        ") \n",
        "\n",
        "test1_datagen = ImageDataGenerator(rescale = 1./255.)\n",
        "test1_generator = test1_datagen.flow_from_directory(\n",
        "    'seg_test/seg_test', \n",
        "    target_size=(150,150),\n",
        "    batch_size=1,\n",
        "    class_mode=None,\n",
        "    shuffle=False,\n",
        "    seed=2209\n",
        ") "
      ]
    },
    {
      "cell_type": "markdown",
      "metadata": {
        "id": "erzO8b3mthQF"
      },
      "source": [
        "# **Convolutional Neural Network**"
      ]
    },
    {
      "cell_type": "code",
      "execution_count": 5,
      "metadata": {
        "id": "gm_Zzi-dCE1l"
      },
      "outputs": [
        {
          "name": "stderr",
          "output_type": "stream",
          "text": [
            "<ipython-input-5-4082395b043a>:55: UserWarning: `Model.fit_generator` is deprecated and will be removed in a future version. Please use `Model.fit`, which supports generators.\n",
            "  history1=model1.fit_generator(\n"
          ]
        },
        {
          "name": "stdout",
          "output_type": "stream",
          "text": [
            "Epoch 1/10\n",
            "197/197 [==============================] - 579s 3s/step - loss: 1.8070 - accuracy: 0.2957 - val_loss: 3.7809 - val_accuracy: 0.2068 - lr: 0.0010\n",
            "Epoch 2/10\n",
            "197/197 [==============================] - 400s 2s/step - loss: 1.2584 - accuracy: 0.4757 - val_loss: 2.4938 - val_accuracy: 0.3601 - lr: 0.0010\n",
            "Epoch 3/10\n",
            "197/197 [==============================] - 382s 2s/step - loss: 1.0742 - accuracy: 0.5754 - val_loss: 1.0929 - val_accuracy: 0.6057 - lr: 0.0010\n",
            "Epoch 4/10\n",
            "197/197 [==============================] - 333s 2s/step - loss: 0.9684 - accuracy: 0.6471 - val_loss: 0.9449 - val_accuracy: 0.6116 - lr: 0.0010\n",
            "Epoch 5/10\n",
            "197/197 [==============================] - 343s 2s/step - loss: 0.8848 - accuracy: 0.6983 - val_loss: 0.9081 - val_accuracy: 0.6696 - lr: 0.0010\n",
            "Epoch 6/10\n",
            "197/197 [==============================] - 360s 2s/step - loss: 0.7987 - accuracy: 0.7397 - val_loss: 1.2262 - val_accuracy: 0.6034 - lr: 0.0010\n",
            "Epoch 7/10\n",
            "197/197 [==============================] - 333s 2s/step - loss: 0.7539 - accuracy: 0.7608 - val_loss: 2.2540 - val_accuracy: 0.3646 - lr: 0.0010\n",
            "Epoch 8/10\n",
            "197/197 [==============================] - 993s 5s/step - loss: 0.7193 - accuracy: 0.7695 - val_loss: 0.7113 - val_accuracy: 0.7567 - lr: 0.0010\n",
            "Epoch 9/10\n",
            "197/197 [==============================] - 330s 2s/step - loss: 0.6851 - accuracy: 0.7839 - val_loss: 0.6648 - val_accuracy: 0.7835 - lr: 0.0010\n",
            "Epoch 10/10\n",
            "197/197 [==============================] - 431s 2s/step - loss: 0.6490 - accuracy: 0.7942 - val_loss: 0.6791 - val_accuracy: 0.7708 - lr: 0.0010\n"
          ]
        },
        {
          "name": "stderr",
          "output_type": "stream",
          "text": [
            "<ipython-input-5-4082395b043a>:64: UserWarning: `Model.evaluate_generator` is deprecated and will be removed in a future version. Please use `Model.evaluate`, which supports generators.\n",
            "  accuracy=model1.evaluate_generator(test_generator, steps=len(test_generator)//32, callbacks=[reduce],verbose=2)\n"
          ]
        },
        {
          "name": "stdout",
          "output_type": "stream",
          "text": [
            "2/2 - 1s - loss: 0.6754 - accuracy: 0.7656 - 687ms/epoch - 343ms/step\n",
            "Accuracy of the model on the test set:  0.765625\n"
          ]
        },
        {
          "data": {
            "image/png": "[encoded data removed]",
            "text/plain": [
              "<Figure size 432x288 with 1 Axes>"
            ]
          },
          "metadata": {
            "needs_background": "light"
          },
          "output_type": "display_data"
        },
        {
          "data": {
            "image/png": "[encoded data removed]",
            "text/plain": [
              "<Figure size 432x288 with 1 Axes>"
            ]
          },
          "metadata": {
            "needs_background": "light"
          },
          "output_type": "display_data"
        }
      ],
      "source": [
        "import tensorflow as tf\n",
        "from keras import regularizers\n",
        "\n",
        "model1=tf.keras.models.Sequential([\n",
        "    \n",
        "    tf.keras.layers.Conv2D(16,(3,3),activation='relu',input_shape=(150,150,3)),\n",
        "    tf.keras.layers.Conv2D(16,(3,3),activation='relu'),\n",
        "    tf.keras.layers.BatchNormalization(),\n",
        "    tf.keras.layers.MaxPooling2D(3,3),\n",
        "    \n",
        "    tf.keras.layers.Conv2D(32,(3,3),activation='relu'),\n",
        "    tf.keras.layers.Conv2D(32,(3,3),activation='relu'),\n",
        "    tf.keras.layers.BatchNormalization(),\n",
        "    tf.keras.layers.MaxPooling2D(2,2),\n",
        "    \n",
        "    tf.keras.layers.Conv2D(64,(3,3),activation='relu'),\n",
        "    tf.keras.layers.Conv2D(64,(3,3),activation='relu'),\n",
        "    tf.keras.layers.BatchNormalization(),\n",
        "    tf.keras.layers.MaxPooling2D(2,2),\n",
        "   \n",
        "    tf.keras.layers.Conv2D(128,(3,3),activation='relu'),\n",
        "    tf.keras.layers.Conv2D(128,(3,3),activation='relu'),\n",
        "    tf.keras.layers.BatchNormalization(),\n",
        "    \n",
        "    tf.keras.layers.Conv2D(256,(3,3),activation='relu',padding='same'),\n",
        "    tf.keras.layers.Conv2D(256,(3,3),activation='relu',padding='same'),\n",
        "    tf.keras.layers.BatchNormalization(),\n",
        "    tf.keras.layers.MaxPooling2D(2,2),\n",
        "    tf.keras.layers.Dropout(0.4),\n",
        "    \n",
        "  \n",
        "    tf.keras.layers.Flatten(),\n",
        "       \n",
        "    tf.keras.layers.Dense(256,activation='relu'),\n",
        "    tf.keras.layers.BatchNormalization(),\n",
        "    tf.keras.layers.Dropout(0.25),\n",
        "    tf.keras.layers.Dense(128,activation='relu'),\n",
        "    tf.keras.layers.BatchNormalization(),\n",
        "    tf.keras.layers.Dropout(0.25),\n",
        "    tf.keras.layers.Dense(64,activation='relu'),\n",
        "    tf.keras.layers.BatchNormalization(),\n",
        "    tf.keras.layers.Dropout(0.25),\n",
        "    tf.keras.layers.Dense(32,activation='relu'),\n",
        "    tf.keras.layers.BatchNormalization(),\n",
        "    tf.keras.layers.Dropout(0.25),\n",
        "    tf.keras.layers.Dense(16,activation='relu'),\n",
        "    tf.keras.layers.BatchNormalization(),\n",
        "    tf.keras.layers.Dropout(0.4),\n",
        "    \n",
        "    tf.keras.layers.Dense(6,activation='softmax')\n",
        "])\n",
        "reduce =tf. keras.callbacks.ReduceLROnPlateau(monitor='val_loss', factor=0.1, patience=10, mode='auto')\n",
        "#early = tf.keras.callbacks.EarlyStopping(monitor='val_loss', min_delta=1e-4, patience=10, mode='auto')\n",
        "model1.compile(optimizer='rmsprop',loss='sparse_categorical_crossentropy',metrics=['accuracy'])\n",
        "history1=model1.fit_generator(\n",
        "  train_generator,\n",
        "  steps_per_epoch=int(12632/64),\n",
        "  epochs=10,\n",
        "  validation_data=validation_generator,\n",
        "  validation_steps=int(1402/64),\n",
        "  callbacks=[reduce],\n",
        "  verbose=1\n",
        ")\n",
        "accuracy=model1.evaluate_generator(test_generator, steps=len(test_generator)//32, callbacks=[reduce],verbose=2)\n",
        "print('Accuracy of the model on the test set: ',accuracy[1])\n",
        "#Evaluating Accuracy and Loss of the model\n",
        "%matplotlib inline\n",
        "acc = history1.history['accuracy']\n",
        "val_acc = history1.history['val_accuracy']\n",
        "\n",
        "loss = history1.history['loss']\n",
        "val_loss = history1.history['val_loss']\n",
        "\n",
        "epochs = range(len(acc)) #No. of epochs\n",
        "\n",
        "#Plot training and validation accuracy per epoch\n",
        "import matplotlib.pyplot as plt\n",
        "plt.plot(epochs, acc, 'b', label='Training Accuracy')\n",
        "plt.plot(epochs, val_acc, 'r', label='Validation Accuracy')\n",
        "plt.legend()\n",
        "plt.show()\n",
        "\n",
        "#Plot training and validation loss per epoch\n",
        "plt.plot(epochs, loss, 'b', label='Training Loss')\n",
        "plt.plot(epochs, val_loss, 'r', label='Validation Loss')\n",
        "plt.legend()\n",
        "plt.show()"
      ]
    },
    {
      "cell_type": "code",
      "execution_count": null,
      "metadata": {},
      "outputs": [],
      "source": []
    }
  ],
  "metadata": {
    "accelerator": "GPU",
    "colab": {
      "name": "Intel Image Classification.ipynb",
      "provenance": []
    },
    "gpuClass": "standard",
    "kernelspec": {
      "display_name": "Python 3",
      "name": "python3"
    },
    "language_info": {
      "codemirror_mode": {
        "name": "ipython",
        "version": 3
      },
      "file_extension": ".py",
      "mimetype": "text/x-python",
      "name": "python",
      "nbconvert_exporter": "python",
      "pygments_lexer": "ipython3",
      "version": "3.8.8"
    }
  },
  "nbformat": 4,
  "nbformat_minor": 0
}
