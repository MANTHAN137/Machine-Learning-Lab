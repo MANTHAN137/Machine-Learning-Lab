{
 "cells": [
  {
   "cell_type": "code",
   "execution_count": 77,
   "metadata": {},
   "outputs": [],
   "source": [
    "import pandas as pd\n",
    "import numpy as np\n",
    "from sklearn.model_selection import train_test_split"
   ]
  },
  {
   "cell_type": "code",
   "execution_count": 78,
   "metadata": {},
   "outputs": [],
   "source": [
    "data=pd.read_csv('mushrooms.csv')\n",
    "data=pd.get_dummies(data)\n",
    "data=data.sample(n=300)\n",
    "data=data.drop('class_p',axis=1)\n",
    "X=data.drop('class_e',axis=1)\n",
    "y=data['class_e']\n",
    "x_train,x_test,y_train,y_test=train_test_split(X,y,test_size=0.1)\n",
    "\n"
   ]
  },
  {
   "cell_type": "code",
   "execution_count": 79,
   "metadata": {},
   "outputs": [],
   "source": [
    "\n",
    "def Knn(x,y,xtest,max_neighbors=10):\n",
    "    y_pred=[]\n",
    "    x=np.array(x,dtype=np.int32)\n",
    "    y=np.array(y,dtype=np.int32)\n",
    "    xtest=np.array(xtest,dtype=np.int32)\n",
    "\n",
    "    for i in xtest:\n",
    "        demoList=[]\n",
    "        \n",
    "        for j,k in zip(x,y):\n",
    "            count=0\n",
    "            for m,n in zip(i,j):\n",
    "                count+=abs(m-n)\n",
    "            demoList.append([count,k])\n",
    "        demoList=sorted(demoList,key=lambda x:x[0])\n",
    "\n",
    "        oneC=0\n",
    "        for ele in demoList[:max_neighbors]:\n",
    "            oneC+=ele[1]\n",
    "        if(oneC>max_neighbors//2):\n",
    "            y_pred.append(1)\n",
    "        else:\n",
    "            y_pred.append(0)\n",
    "    return y_pred\n",
    "            \n",
    "            \n",
    "y_pred=Knn(x_train,y_train,x_test)\n",
    "\n",
    "\n"
   ]
  },
  {
   "cell_type": "code",
   "execution_count": 80,
   "metadata": {},
   "outputs": [],
   "source": [
    "y_test=np.array(y_test,dtype=np.int32)"
   ]
  },
  {
   "cell_type": "code",
   "execution_count": 81,
   "metadata": {},
   "outputs": [
    {
     "name": "stdout",
     "output_type": "stream",
     "text": [
      "Accuracy  :  0.9666666666666667\n"
     ]
    }
   ],
   "source": [
    "count=0\n",
    "\n",
    "for i,j in zip(y_test,y_pred):\n",
    "    if(i==j):\n",
    "        count+=1\n",
    "\n",
    "print(\"Accuracy  : \",count/len(y_test))"
   ]
  },
  {
   "cell_type": "code",
   "execution_count": 82,
   "metadata": {},
   "outputs": [
    {
     "name": "stderr",
     "output_type": "stream",
     "text": [
      "c:\\Users\\HP\\anaconda3\\lib\\site-packages\\sklearn\\neighbors\\_classification.py:211: FutureWarning: Unlike other reduction functions (e.g. `skew`, `kurtosis`), the default behavior of `mode` typically preserves the axis it acts along. In SciPy 1.11.0, this behavior will change: the default value of `keepdims` will become False, the `axis` over which the statistic is taken will be eliminated, and the value None will no longer be accepted. Set `keepdims` to True or False to avoid this warning.\n",
      "  mode, _ = stats.mode(_y[neigh_ind, k], axis=1)\n"
     ]
    }
   ],
   "source": [
    "from sklearn.neighbors import KNeighborsClassifier\n",
    "\n",
    "knn=KNeighborsClassifier()\n",
    "knn.fit(x_train,y_train)\n",
    "y_pred=knn.predict(x_test)"
   ]
  },
  {
   "cell_type": "code",
   "execution_count": 83,
   "metadata": {},
   "outputs": [
    {
     "name": "stdout",
     "output_type": "stream",
     "text": [
      "Accuracy  :  1.0\n"
     ]
    }
   ],
   "source": [
    "count=0\n",
    "\n",
    "for i,j in zip(y_test,y_pred):\n",
    "    if(i==j):\n",
    "        count+=1\n",
    "\n",
    "print(\"Accuracy  : \",count/len(y_test))"
   ]
  },
  {
   "cell_type": "code",
   "execution_count": null,
   "metadata": {},
   "outputs": [],
   "source": []
  }
 ],
 "metadata": {
  "kernelspec": {
   "display_name": "base",
   "language": "python",
   "name": "python3"
  },
  "language_info": {
   "codemirror_mode": {
    "name": "ipython",
    "version": 3
   },
   "file_extension": ".py",
   "mimetype": "text/x-python",
   "name": "python",
   "nbconvert_exporter": "python",
   "pygments_lexer": "ipython3",
   "version": "3.8.8"
  },
  "orig_nbformat": 4
 },
 "nbformat": 4,
 "nbformat_minor": 2
}
